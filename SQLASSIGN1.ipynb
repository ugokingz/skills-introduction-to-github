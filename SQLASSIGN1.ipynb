{
  "nbformat": 4,
  "nbformat_minor": 0,
  "metadata": {
    "colab": {
      "provenance": [],
      "authorship_tag": "ABX9TyPKfXcaUAvLfyZaN6970H0t",
      "include_colab_link": true
    },
    "kernelspec": {
      "name": "python3",
      "display_name": "Python 3"
    },
    "language_info": {
      "name": "python"
    }
  },
  "cells": [
    {
      "cell_type": "markdown",
      "metadata": {
        "id": "view-in-github",
        "colab_type": "text"
      },
      "source": [
        "<a href=\"https://colab.research.google.com/github/ugokingz/skills-introduction-to-github/blob/main/SQLASSIGN1.ipynb\" target=\"_parent\"><img src=\"https://colab.research.google.com/assets/colab-badge.svg\" alt=\"Open In Colab\"/></a>"
      ]
    },
    {
      "cell_type": "code",
      "execution_count": null,
      "metadata": {
        "colab": {
          "base_uri": "https://localhost:8080/",
          "height": 73
        },
        "id": "E8gtC4HIHzKx",
        "outputId": "66805357-5a05-458b-f0e8-cb50c88671e9"
      },
      "outputs": [
        {
          "output_type": "display_data",
          "data": {
            "text/plain": [
              "<IPython.core.display.HTML object>"
            ],
            "text/html": [
              "\n",
              "     <input type=\"file\" id=\"files-ccf01b24-7668-459f-b33e-c9167d82e839\" name=\"files[]\" multiple disabled\n",
              "        style=\"border:none\" />\n",
              "     <output id=\"result-ccf01b24-7668-459f-b33e-c9167d82e839\">\n",
              "      Upload widget is only available when the cell has been executed in the\n",
              "      current browser session. Please rerun this cell to enable.\n",
              "      </output>\n",
              "      <script>// Copyright 2017 Google LLC\n",
              "//\n",
              "// Licensed under the Apache License, Version 2.0 (the \"License\");\n",
              "// you may not use this file except in compliance with the License.\n",
              "// You may obtain a copy of the License at\n",
              "//\n",
              "//      http://www.apache.org/licenses/LICENSE-2.0\n",
              "//\n",
              "// Unless required by applicable law or agreed to in writing, software\n",
              "// distributed under the License is distributed on an \"AS IS\" BASIS,\n",
              "// WITHOUT WARRANTIES OR CONDITIONS OF ANY KIND, either express or implied.\n",
              "// See the License for the specific language governing permissions and\n",
              "// limitations under the License.\n",
              "\n",
              "/**\n",
              " * @fileoverview Helpers for google.colab Python module.\n",
              " */\n",
              "(function(scope) {\n",
              "function span(text, styleAttributes = {}) {\n",
              "  const element = document.createElement('span');\n",
              "  element.textContent = text;\n",
              "  for (const key of Object.keys(styleAttributes)) {\n",
              "    element.style[key] = styleAttributes[key];\n",
              "  }\n",
              "  return element;\n",
              "}\n",
              "\n",
              "// Max number of bytes which will be uploaded at a time.\n",
              "const MAX_PAYLOAD_SIZE = 100 * 1024;\n",
              "\n",
              "function _uploadFiles(inputId, outputId) {\n",
              "  const steps = uploadFilesStep(inputId, outputId);\n",
              "  const outputElement = document.getElementById(outputId);\n",
              "  // Cache steps on the outputElement to make it available for the next call\n",
              "  // to uploadFilesContinue from Python.\n",
              "  outputElement.steps = steps;\n",
              "\n",
              "  return _uploadFilesContinue(outputId);\n",
              "}\n",
              "\n",
              "// This is roughly an async generator (not supported in the browser yet),\n",
              "// where there are multiple asynchronous steps and the Python side is going\n",
              "// to poll for completion of each step.\n",
              "// This uses a Promise to block the python side on completion of each step,\n",
              "// then passes the result of the previous step as the input to the next step.\n",
              "function _uploadFilesContinue(outputId) {\n",
              "  const outputElement = document.getElementById(outputId);\n",
              "  const steps = outputElement.steps;\n",
              "\n",
              "  const next = steps.next(outputElement.lastPromiseValue);\n",
              "  return Promise.resolve(next.value.promise).then((value) => {\n",
              "    // Cache the last promise value to make it available to the next\n",
              "    // step of the generator.\n",
              "    outputElement.lastPromiseValue = value;\n",
              "    return next.value.response;\n",
              "  });\n",
              "}\n",
              "\n",
              "/**\n",
              " * Generator function which is called between each async step of the upload\n",
              " * process.\n",
              " * @param {string} inputId Element ID of the input file picker element.\n",
              " * @param {string} outputId Element ID of the output display.\n",
              " * @return {!Iterable<!Object>} Iterable of next steps.\n",
              " */\n",
              "function* uploadFilesStep(inputId, outputId) {\n",
              "  const inputElement = document.getElementById(inputId);\n",
              "  inputElement.disabled = false;\n",
              "\n",
              "  const outputElement = document.getElementById(outputId);\n",
              "  outputElement.innerHTML = '';\n",
              "\n",
              "  const pickedPromise = new Promise((resolve) => {\n",
              "    inputElement.addEventListener('change', (e) => {\n",
              "      resolve(e.target.files);\n",
              "    });\n",
              "  });\n",
              "\n",
              "  const cancel = document.createElement('button');\n",
              "  inputElement.parentElement.appendChild(cancel);\n",
              "  cancel.textContent = 'Cancel upload';\n",
              "  const cancelPromise = new Promise((resolve) => {\n",
              "    cancel.onclick = () => {\n",
              "      resolve(null);\n",
              "    };\n",
              "  });\n",
              "\n",
              "  // Wait for the user to pick the files.\n",
              "  const files = yield {\n",
              "    promise: Promise.race([pickedPromise, cancelPromise]),\n",
              "    response: {\n",
              "      action: 'starting',\n",
              "    }\n",
              "  };\n",
              "\n",
              "  cancel.remove();\n",
              "\n",
              "  // Disable the input element since further picks are not allowed.\n",
              "  inputElement.disabled = true;\n",
              "\n",
              "  if (!files) {\n",
              "    return {\n",
              "      response: {\n",
              "        action: 'complete',\n",
              "      }\n",
              "    };\n",
              "  }\n",
              "\n",
              "  for (const file of files) {\n",
              "    const li = document.createElement('li');\n",
              "    li.append(span(file.name, {fontWeight: 'bold'}));\n",
              "    li.append(span(\n",
              "        `(${file.type || 'n/a'}) - ${file.size} bytes, ` +\n",
              "        `last modified: ${\n",
              "            file.lastModifiedDate ? file.lastModifiedDate.toLocaleDateString() :\n",
              "                                    'n/a'} - `));\n",
              "    const percent = span('0% done');\n",
              "    li.appendChild(percent);\n",
              "\n",
              "    outputElement.appendChild(li);\n",
              "\n",
              "    const fileDataPromise = new Promise((resolve) => {\n",
              "      const reader = new FileReader();\n",
              "      reader.onload = (e) => {\n",
              "        resolve(e.target.result);\n",
              "      };\n",
              "      reader.readAsArrayBuffer(file);\n",
              "    });\n",
              "    // Wait for the data to be ready.\n",
              "    let fileData = yield {\n",
              "      promise: fileDataPromise,\n",
              "      response: {\n",
              "        action: 'continue',\n",
              "      }\n",
              "    };\n",
              "\n",
              "    // Use a chunked sending to avoid message size limits. See b/62115660.\n",
              "    let position = 0;\n",
              "    do {\n",
              "      const length = Math.min(fileData.byteLength - position, MAX_PAYLOAD_SIZE);\n",
              "      const chunk = new Uint8Array(fileData, position, length);\n",
              "      position += length;\n",
              "\n",
              "      const base64 = btoa(String.fromCharCode.apply(null, chunk));\n",
              "      yield {\n",
              "        response: {\n",
              "          action: 'append',\n",
              "          file: file.name,\n",
              "          data: base64,\n",
              "        },\n",
              "      };\n",
              "\n",
              "      let percentDone = fileData.byteLength === 0 ?\n",
              "          100 :\n",
              "          Math.round((position / fileData.byteLength) * 100);\n",
              "      percent.textContent = `${percentDone}% done`;\n",
              "\n",
              "    } while (position < fileData.byteLength);\n",
              "  }\n",
              "\n",
              "  // All done.\n",
              "  yield {\n",
              "    response: {\n",
              "      action: 'complete',\n",
              "    }\n",
              "  };\n",
              "}\n",
              "\n",
              "scope.google = scope.google || {};\n",
              "scope.google.colab = scope.google.colab || {};\n",
              "scope.google.colab._files = {\n",
              "  _uploadFiles,\n",
              "  _uploadFilesContinue,\n",
              "};\n",
              "})(self);\n",
              "</script> "
            ]
          },
          "metadata": {}
        },
        {
          "output_type": "stream",
          "name": "stdout",
          "text": [
            "Saving Chinook_Sqlite.sqlite to Chinook_Sqlite.sqlite\n"
          ]
        }
      ],
      "source": [
        "from google.colab import files\n",
        "upload=files.upload()"
      ]
    },
    {
      "cell_type": "code",
      "source": [
        "import sqlite3\n",
        "import pandas as pd\n",
        "\n",
        "#Connect to the SQLite database\n",
        "conn = sqlite3.connect('Chinook_Sqlite.sqlite')\n",
        "\n",
        "table_list = pd.read_sql_query(\"SELECT name FROM sqlite_master WHERE type='table'\", conn)\n",
        "print(table_list)\n",
        "\n",
        "#Close the connection\n",
        "conn.close()"
      ],
      "metadata": {
        "colab": {
          "base_uri": "https://localhost:8080/"
        },
        "id": "gR-XuEo8ITPN",
        "outputId": "d18a039f-a2e4-4814-ecb6-45f20cb8ed16"
      },
      "execution_count": null,
      "outputs": [
        {
          "output_type": "stream",
          "name": "stdout",
          "text": [
            "             name\n",
            "0           Album\n",
            "1          Artist\n",
            "2        Customer\n",
            "3        Employee\n",
            "4           Genre\n",
            "5         Invoice\n",
            "6     InvoiceLine\n",
            "7       MediaType\n",
            "8        Playlist\n",
            "9   PlaylistTrack\n",
            "10          Track\n"
          ]
        }
      ]
    },
    {
      "cell_type": "code",
      "source": [
        "import sqlite3\n",
        "import pandas as pd\n",
        "conn = sqlite3.connect('Chinook_Sqlite.sqlite')\n",
        "\n",
        "# Query to retrieve the top 10 records\n",
        "query = \"SELECT * FROM Album LIMIT 10\"\n",
        "\n",
        "# Execute the query and load results into a DataFrame\n",
        "top_10_album = pd.read_sql_query(query, conn)\n",
        "\n",
        "print(top_10_album)\n",
        "\n",
        "# Close the connection\n",
        "conn.close()"
      ],
      "metadata": {
        "colab": {
          "base_uri": "https://localhost:8080/"
        },
        "id": "11oMaRmTIcNr",
        "outputId": "65e7802d-aed7-4f8f-ee9b-e81ed7447bb9"
      },
      "execution_count": null,
      "outputs": [
        {
          "output_type": "stream",
          "name": "stdout",
          "text": [
            "   AlbumId                                  Title  ArtistId\n",
            "0        1  For Those About To Rock We Salute You         1\n",
            "1        2                      Balls to the Wall         2\n",
            "2        3                      Restless and Wild         2\n",
            "3        4                      Let There Be Rock         1\n",
            "4        5                               Big Ones         3\n",
            "5        6                     Jagged Little Pill         4\n",
            "6        7                               Facelift         5\n",
            "7        8                         Warner 25 Anos         6\n",
            "8        9         Plays Metallica By Four Cellos         7\n",
            "9       10                             Audioslave         8\n"
          ]
        }
      ]
    },
    {
      "cell_type": "code",
      "source": [
        "import sqlite3\n",
        "import pandas as pd\n",
        "conn = sqlite3.connect('Chinook_Sqlite.sqlite')\n",
        "\n",
        "# Execute the query and load results into a DataFrame\n",
        "tracks_per_genre = pd.read_sql_query(query, conn)\n",
        "\n",
        "# Display the result\n",
        "print(tracks_per_genre)\n",
        "\n",
        "# Close the connection\n",
        "conn.close()"
      ],
      "metadata": {
        "colab": {
          "base_uri": "https://localhost:8080/"
        },
        "id": "QjghG2VaIiLp",
        "outputId": "eded1772-556a-4459-d9a0-9c1019d6552f"
      },
      "execution_count": null,
      "outputs": [
        {
          "output_type": "stream",
          "name": "stdout",
          "text": [
            "   AlbumId                                  Title  ArtistId\n",
            "0        1  For Those About To Rock We Salute You         1\n",
            "1        2                      Balls to the Wall         2\n",
            "2        3                      Restless and Wild         2\n",
            "3        4                      Let There Be Rock         1\n",
            "4        5                               Big Ones         3\n",
            "5        6                     Jagged Little Pill         4\n",
            "6        7                               Facelift         5\n",
            "7        8                         Warner 25 Anos         6\n",
            "8        9         Plays Metallica By Four Cellos         7\n",
            "9       10                             Audioslave         8\n"
          ]
        }
      ]
    },
    {
      "cell_type": "code",
      "source": [
        "import sqlite3\n",
        "import pandas as pd\n",
        "conn = sqlite3.connect('Chinook_Sqlite.sqlite')\n",
        "\n",
        "# SQL query to calculate total sales by country\n",
        "query = \"\"\"SELECT Customer.Country, SUM(Invoice.Total) AS Total_Sales\n",
        "FROM Invoice\n",
        "JOIN Customer ON Invoice.CustomerId = Customer.CustomerId\n",
        "GROUP BY Customer.Country\n",
        "ORDER BY Total_Sales DESC;\n",
        "\"\"\"\n",
        "\n",
        "# Execute the query and store the result in a DataFrame\n",
        "total_sales_by_country = pd.read_sql_query(query, conn)\n",
        "\n",
        "# Display the result\n",
        "print(total_sales_by_country)\n",
        "\n",
        "# Close the connection\n",
        "conn.close()\n"
      ],
      "metadata": {
        "colab": {
          "base_uri": "https://localhost:8080/"
        },
        "id": "gr9NCMFqIpSx",
        "outputId": "1c842049-4270-465e-829c-d7bff3f72581"
      },
      "execution_count": null,
      "outputs": [
        {
          "output_type": "stream",
          "name": "stdout",
          "text": [
            "           Country  Total_Sales\n",
            "0              USA       523.06\n",
            "1           Canada       303.96\n",
            "2           France       195.10\n",
            "3           Brazil       190.10\n",
            "4          Germany       156.48\n",
            "5   United Kingdom       112.86\n",
            "6   Czech Republic        90.24\n",
            "7         Portugal        77.24\n",
            "8            India        75.26\n",
            "9            Chile        46.62\n",
            "10         Ireland        45.62\n",
            "11         Hungary        45.62\n",
            "12         Austria        42.62\n",
            "13         Finland        41.62\n",
            "14     Netherlands        40.62\n",
            "15          Norway        39.62\n",
            "16          Sweden        38.62\n",
            "17          Poland        37.62\n",
            "18           Italy        37.62\n",
            "19         Denmark        37.62\n",
            "20       Australia        37.62\n",
            "21       Argentina        37.62\n",
            "22           Spain        37.62\n",
            "23         Belgium        37.62\n"
          ]
        }
      ]
    },
    {
      "cell_type": "code",
      "source": [
        "import sqlite3\n",
        "import pandas as pd\n",
        "\n",
        "# Connect to the SQLite database\n",
        "conn = sqlite3.connect('Chinook_Sqlite.sqlite')\n",
        "\n",
        "# SQL query to get the top 5 customers by total purchase amount\n",
        "query = \"\"\"\n",
        "SELECT Customer.CustomerId, Customer.FirstName, Customer.LastName,\n",
        "       SUM(Invoice.Total) AS Total_Purchase\n",
        "FROM Invoice\n",
        "JOIN Customer ON Invoice.CustomerId = Customer.CustomerId\n",
        "GROUP BY Customer.CustomerId, Customer.FirstName, Customer.LastName\n",
        "ORDER BY Total_Purchase DESC\n",
        "LIMIT 5;\n",
        "\"\"\"\n",
        "\n",
        "# Execute the query and store the result in a DataFrame\n",
        "top_5_customers = pd.read_sql_query(query, conn)\n",
        "\n",
        "# Display the result\n",
        "print(top_5_customers)\n",
        "\n",
        "# Close the connection\n",
        "conn.close()"
      ],
      "metadata": {
        "colab": {
          "base_uri": "https://localhost:8080/"
        },
        "id": "gp4x5MA3Iyi4",
        "outputId": "65b9c2d2-ab46-4325-f80d-e6d9d5785c62"
      },
      "execution_count": null,
      "outputs": [
        {
          "output_type": "stream",
          "name": "stdout",
          "text": [
            "   CustomerId FirstName    LastName  Total_Purchase\n",
            "0           6    Helena        Holý           49.62\n",
            "1          26   Richard  Cunningham           47.62\n",
            "2          57      Luis       Rojas           46.62\n",
            "3          45  Ladislav      Kovács           45.62\n",
            "4          46      Hugh    O'Reilly           45.62\n"
          ]
        }
      ]
    },
    {
      "cell_type": "code",
      "source": [
        "import sqlite3\n",
        "import pandas as pd\n",
        "\n",
        "# Connect to the SQLite database (Ensure you have 'Chinook_Sqlite.sqlite' in your Colab environment)\n",
        "conn = sqlite3.connect('Chinook_Sqlite.sqlite')\n",
        "\n",
        "# SQL Query to find the most popular artist by total track sales\n",
        "query = \"\"\"\n",
        "SELECT ar.Name AS Artist, SUM(il.UnitPrice * il.Quantity) AS TotalSales\n",
        "FROM InvoiceLine il\n",
        "JOIN Track t ON il.TrackId = t.TrackId\n",
        "JOIN Album al ON t.AlbumId = al.AlbumId\n",
        "JOIN Artist ar ON al.ArtistId = ar.ArtistId\n",
        "GROUP BY ar.ArtistId\n",
        "ORDER BY TotalSales DESC\n",
        "LIMIT 1;\n",
        "\"\"\"\n",
        "\n",
        "# Execute query and load results into a DataFrame\n",
        "most_popular_artist = pd.read_sql_query(query, conn)\n",
        "\n",
        "# Display the result\n",
        "print(most_popular_artist)\n",
        "\n",
        "# Close the connection\n",
        "conn.close()"
      ],
      "metadata": {
        "colab": {
          "base_uri": "https://localhost:8080/"
        },
        "id": "fYu4J1_sI6Wh",
        "outputId": "58dbe48f-a7f7-4fe1-e72f-8c2e69629f96"
      },
      "execution_count": null,
      "outputs": [
        {
          "output_type": "stream",
          "name": "stdout",
          "text": [
            "        Artist  TotalSales\n",
            "0  Iron Maiden       138.6\n"
          ]
        }
      ]
    },
    {
      "cell_type": "code",
      "source": [
        "import sqlite3\n",
        "import pandas as pd\n",
        "\n",
        "# Connect to the SQLite database\n",
        "conn = sqlite3.connect('Chinook_Sqlite.sqlite')\n",
        "\n",
        "# Load Customer and Invoice tables into Pandas DataFrames\n",
        "df_customer = pd.read_sql_query(\"SELECT CustomerId, Country FROM Customer\", conn)\n",
        "df_invoice = pd.read_sql_query(\"SELECT CustomerId, Total FROM Invoice\", conn)\n",
        "\n",
        "# Merge the two DataFrames on CustomerId\n",
        "df_merged = pd.merge(df_invoice, df_customer, on=\"CustomerId\")\n",
        "\n",
        "# Calculate the average invoice total by country\n",
        "df_avg_invoice = df_merged.groupby(\"Country\")[\"Total\"].mean().reset_index()\n",
        "\n",
        "# Rename the column for clarity\n",
        "df_avg_invoice.rename(columns={\"Total\": \"Avg_Invoice_Total\"}, inplace=True)\n",
        "\n",
        "# Display the results\n",
        "print(df_avg_invoice)\n",
        "\n",
        "# Close the connection\n",
        "conn.close()"
      ],
      "metadata": {
        "colab": {
          "base_uri": "https://localhost:8080/"
        },
        "id": "_Uh9WgsTJVP5",
        "outputId": "bb7e7bda-0949-46bb-ab0d-02825b496640"
      },
      "execution_count": null,
      "outputs": [
        {
          "output_type": "stream",
          "name": "stdout",
          "text": [
            "           Country  Avg_Invoice_Total\n",
            "0        Argentina           5.374286\n",
            "1        Australia           5.374286\n",
            "2          Austria           6.088571\n",
            "3          Belgium           5.374286\n",
            "4           Brazil           5.431429\n",
            "5           Canada           5.427857\n",
            "6            Chile           6.660000\n",
            "7   Czech Republic           6.445714\n",
            "8          Denmark           5.374286\n",
            "9          Finland           5.945714\n",
            "10          France           5.574286\n",
            "11         Germany           5.588571\n",
            "12         Hungary           6.517143\n",
            "13           India           5.789231\n",
            "14         Ireland           6.517143\n",
            "15           Italy           5.374286\n",
            "16     Netherlands           5.802857\n",
            "17          Norway           5.660000\n",
            "18          Poland           5.374286\n",
            "19        Portugal           5.517143\n",
            "20           Spain           5.374286\n",
            "21          Sweden           5.517143\n",
            "22             USA           5.747912\n",
            "23  United Kingdom           5.374286\n"
          ]
        }
      ]
    },
    {
      "cell_type": "code",
      "source": [
        "import sqlite3\n",
        "import pandas as pd\n",
        "\n",
        "# Connect to the SQLite database\n",
        "conn = sqlite3.connect('Chinook_Sqlite.sqlite')\n",
        "\n",
        "# SQL Query to analyze sales performance of each employee\n",
        "query = \"\"\"\n",
        "SELECT\n",
        "    e.EmployeeId,\n",
        "    e.FirstName || ' ' || e.LastName AS EmployeeName,\n",
        "    SUM(i.Total) AS TotalSales\n",
        "FROM Employee e\n",
        "JOIN Customer c ON e.EmployeeId = c.SupportRepId\n",
        "JOIN Invoice i ON c.CustomerId = i.CustomerId\n",
        "GROUP BY e.EmployeeId, EmployeeName\n",
        "ORDER BY TotalSales DESC;\n",
        "\"\"\"\n",
        "\n",
        "# Execute query and load results into a DataFrame\n",
        "sales_performance = pd.read_sql_query(query, conn)\n",
        "\n",
        "# Display the result\n",
        "print(sales_performance)\n",
        "\n",
        "# Close the connection\n",
        "conn.close()"
      ],
      "metadata": {
        "colab": {
          "base_uri": "https://localhost:8080/"
        },
        "id": "7WhkHmHpJw_T",
        "outputId": "daa8c72e-ada4-49cb-a6a1-cca07b6fb670"
      },
      "execution_count": null,
      "outputs": [
        {
          "output_type": "stream",
          "name": "stdout",
          "text": [
            "   EmployeeId   EmployeeName  TotalSales\n",
            "0           3   Jane Peacock      833.04\n",
            "1           4  Margaret Park      775.40\n",
            "2           5  Steve Johnson      720.16\n"
          ]
        }
      ]
    },
    {
      "cell_type": "code",
      "source": [
        "import sqlite3\n",
        "import pandas as pd\n",
        "import matplotlib.pyplot as plt\n",
        "\n",
        "# Connect to the SQLite database\n",
        "conn = sqlite3.connect('Chinook_Sqlite.sqlite')\n",
        "\n",
        "# Query to retrieve sales data with the invoice date\n",
        "query = \"\"\"\n",
        "SELECT\n",
        "    strftime('%Y-%m', InvoiceDate) AS Month,\n",
        "    SUM(Total) AS MonthlySales\n",
        "FROM Invoice\n",
        "GROUP BY Month\n",
        "ORDER BY Month;\n",
        "\"\"\"\n",
        "\n",
        "# Load the result into a Pandas DataFrame\n",
        "monthly_sales = pd.read_sql_query(query, conn)\n",
        "\n",
        "# Close the database connection\n",
        "conn.close()\n",
        "\n",
        "# Display the DataFrame\n",
        "print(monthly_sales)\n",
        "\n",
        "# Plot the trend\n",
        "plt.figure(figsize=(10,5))\n",
        "plt.plot(monthly_sales['Month'], monthly_sales['MonthlySales'], marker='o', linestyle='-')\n",
        "plt.xlabel('Month')\n",
        "plt.ylabel('Total Sales')\n",
        "plt.title('Monthly Sales Trends')\n",
        "plt.xticks(rotation=45)\n",
        "plt.grid()\n",
        "plt.show()"
      ],
      "metadata": {
        "colab": {
          "base_uri": "https://localhost:8080/",
          "height": 1000
        },
        "id": "AunTY7cxKHHG",
        "outputId": "666da9dc-31a7-4621-d478-b2c44255a0d1"
      },
      "execution_count": null,
      "outputs": [
        {
          "output_type": "stream",
          "name": "stdout",
          "text": [
            "      Month  MonthlySales\n",
            "0   2009-01         35.64\n",
            "1   2009-02         37.62\n",
            "2   2009-03         37.62\n",
            "3   2009-04         37.62\n",
            "4   2009-05         37.62\n",
            "5   2009-06         37.62\n",
            "6   2009-07         37.62\n",
            "7   2009-08         37.62\n",
            "8   2009-09         37.62\n",
            "9   2009-10         37.62\n",
            "10  2009-11         37.62\n",
            "11  2009-12         37.62\n",
            "12  2010-01         52.62\n",
            "13  2010-02         46.62\n",
            "14  2010-03         44.62\n",
            "15  2010-04         37.62\n",
            "16  2010-05         37.62\n",
            "17  2010-06         37.62\n",
            "18  2010-07         37.62\n",
            "19  2010-08         37.62\n",
            "20  2010-09         36.63\n",
            "21  2010-10         37.62\n",
            "22  2010-11         37.62\n",
            "23  2010-12         37.62\n",
            "24  2011-01         37.62\n",
            "25  2011-02         37.62\n",
            "26  2011-03         37.62\n",
            "27  2011-04         51.62\n",
            "28  2011-05         42.62\n",
            "29  2011-06         50.62\n",
            "30  2011-07         37.62\n",
            "31  2011-08         37.62\n",
            "32  2011-09         37.62\n",
            "33  2011-10         37.62\n",
            "34  2011-11         23.76\n",
            "35  2011-12         37.62\n",
            "36  2012-01         37.62\n",
            "37  2012-02         37.62\n",
            "38  2012-03         37.62\n",
            "39  2012-04         37.62\n",
            "40  2012-05         37.62\n",
            "41  2012-06         37.62\n",
            "42  2012-07         39.62\n",
            "43  2012-08         47.62\n",
            "44  2012-09         46.71\n",
            "45  2012-10         42.62\n",
            "46  2012-11         37.62\n",
            "47  2012-12         37.62\n",
            "48  2013-01         37.62\n",
            "49  2013-02         27.72\n",
            "50  2013-03         37.62\n",
            "51  2013-04         33.66\n",
            "52  2013-05         37.62\n",
            "53  2013-06         37.62\n",
            "54  2013-07         37.62\n",
            "55  2013-08         37.62\n",
            "56  2013-09         37.62\n",
            "57  2013-10         37.62\n",
            "58  2013-11         49.62\n",
            "59  2013-12         38.62\n"
          ]
        },
        {
          "output_type": "display_data",
          "data": {
            "text/plain": [
              "<Figure size 1000x500 with 1 Axes>"
            ],
            "image/png": "[encoded data removed]"
          },
          "metadata": {}
        }
      ]
    }
  ]
}